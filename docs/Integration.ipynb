{
 "cells": [
  {
   "cell_type": "code",
   "execution_count": 1,
   "metadata": {},
   "outputs": [],
   "source": [
    "from sympy import *\n",
    "init_printing()\n",
    "import sympy.vector as sv"
   ]
  },
  {
   "cell_type": "code",
   "execution_count": 2,
   "metadata": {},
   "outputs": [],
   "source": [
    "x, y, z, t = symbols('x y z t')\n",
    "R = sv.CoordSys3D('R')"
   ]
  },
  {
   "cell_type": "code",
   "execution_count": 3,
   "metadata": {},
   "outputs": [],
   "source": [
    "def v(x,y,z): # vector field as a function of scalar variables x,y,z \n",
    "    return x*y*R.i + 2*y*z*R.j + 3*x*z*R.k"
   ]
  },
  {
   "cell_type": "code",
   "execution_count": 4,
   "metadata": {},
   "outputs": [],
   "source": [
    "def voft(l): # vector field along path l as a function of t\n",
    "    x,y,z = (l.dot(R.i),l.dot(R.j),l.dot(R.k)) # x,y,z as functions of t \n",
    "    return v(x,y,z)"
   ]
  },
  {
   "cell_type": "code",
   "execution_count": 5,
   "metadata": {},
   "outputs": [],
   "source": [
    "def li(l,v): # dl/dt\n",
    "    dl = diff(l,t)\n",
    "    return integrate(voft(l).dot(dl),(t,0,1))"
   ]
  },
  {
   "cell_type": "code",
   "execution_count": 6,
   "metadata": {},
   "outputs": [],
   "source": [
    "l1 = 2*t*R.j\n",
    "l2 = 2*(1-t)*R.j + 2*t*R.k \n",
    "l3 = 2*(1-t)*R.k"
   ]
  },
  {
   "cell_type": "code",
   "execution_count": 7,
   "metadata": {},
   "outputs": [
    {
     "data": {
      "image/png": "[encoded data removed]",
      "text/latex": [
       "$$\\left ( 0, \\quad - \\frac{8}{3}, \\quad 0\\right )$$"
      ],
      "text/plain": [
       "(0, -8/3, 0)"
      ]
     },
     "execution_count": 7,
     "metadata": {},
     "output_type": "execute_result"
    }
   ],
   "source": [
    "li(l1,v),li(l2,v),li(l3,v)"
   ]
  },
  {
   "cell_type": "code",
   "execution_count": 8,
   "metadata": {},
   "outputs": [
    {
     "data": {
      "image/png": "[encoded data removed]",
      "text/latex": [
       "$$\\left ( (2 t)\\mathbf{\\hat{j}_{R}}, \\quad (- 2 t + 2)\\mathbf{\\hat{j}_{R}} + (2 t)\\mathbf{\\hat{k}_{R}}, \\quad (- 2 t + 2)\\mathbf{\\hat{k}_{R}}\\right )$$"
      ],
      "text/plain": [
       "((2⋅t) R_j, (-2⋅t + 2) R_j + (2⋅t) R_k, (-2⋅t + 2) R_k)"
      ]
     },
     "execution_count": 8,
     "metadata": {},
     "output_type": "execute_result"
    }
   ],
   "source": [
    "l1,l2,l3"
   ]
  },
  {
   "cell_type": "code",
   "execution_count": 9,
   "metadata": {},
   "outputs": [
    {
     "data": {
      "image/png": "[encoded data removed]",
      "text/latex": [
       "$$\\left ( (2)\\mathbf{\\hat{j}_{R}}, \\quad (-2)\\mathbf{\\hat{j}_{R}} + (2)\\mathbf{\\hat{k}_{R}}, \\quad (-2)\\mathbf{\\hat{k}_{R}}\\right )$$"
      ],
      "text/plain": [
       "((2) R_j, (-2) R_j + (2) R_k, (-2) R_k)"
      ]
     },
     "execution_count": 9,
     "metadata": {},
     "output_type": "execute_result"
    }
   ],
   "source": [
    "dl1 = diff(l1,t) \n",
    "dl2 = diff(l2,t) \n",
    "dl3 = diff(l3,t) \n",
    "dl1,dl2,dl3"
   ]
  },
  {
   "cell_type": "code",
   "execution_count": 10,
   "metadata": {},
   "outputs": [
    {
     "data": {
      "image/png": "[encoded data removed]",
      "text/latex": [
       "$$\\left ( \\mathbf{\\hat{0}}, \\quad (2 t \\left(- 4 t + 4\\right))\\mathbf{\\hat{j}_{R}}, \\quad \\mathbf{\\hat{0}}\\right )$$"
      ],
      "text/plain": [
       "(0, (2⋅t⋅(-4⋅t + 4)) R_j, 0)"
      ]
     },
     "execution_count": 10,
     "metadata": {},
     "output_type": "execute_result"
    }
   ],
   "source": [
    " voft(l1),voft(l2),voft(l3)"
   ]
  },
  {
   "cell_type": "code",
   "execution_count": 11,
   "metadata": {},
   "outputs": [
    {
     "data": {
      "image/png": "[encoded data removed]",
      "text/latex": [
       "$$\\left ( 0, \\quad 2 t \\left(- 4 t + 4\\right) \\left(- 2 t + 2\\right), \\quad 0\\right )$$"
      ],
      "text/plain": [
       "(0, 2⋅t⋅(-4⋅t + 4)⋅(-2⋅t + 2), 0)"
      ]
     },
     "execution_count": 11,
     "metadata": {},
     "output_type": "execute_result"
    }
   ],
   "source": [
    "voft(l1).dot(l1),voft(l2).dot(l2),voft(l3).dot(l3)"
   ]
  },
  {
   "cell_type": "code",
   "execution_count": 12,
   "metadata": {},
   "outputs": [
    {
     "data": {
      "image/png": "[encoded data removed]",
      "text/latex": [
       "$$- \\frac{8}{3}$$"
      ],
      "text/plain": [
       "-8/3"
      ]
     },
     "execution_count": 12,
     "metadata": {},
     "output_type": "execute_result"
    }
   ],
   "source": [
    "integrate(voft(l2).dot(dl2),(t,0,1))"
   ]
  },
  {
   "cell_type": "markdown",
   "metadata": {},
   "source": [
    "A contour is a finite collection of paths joined end to end. A path can be represented as a continuous function form an closed iterval to $\\mathbb{C}$ as follows \n",
    "$$ \\gamma: [a~ b]\\subset \\mathbb{R} \\to \\mathbb{C}; \\quad \\gamma = \\gamma(t)$$ \n",
    "Then the integration of any complex function along this path is is given by \n",
    "$$\\int_\\gamma f(z)dz = \\int_a^b f(t)~\\gamma'(t)~dt = \\sum_{i=1}^n f(t_i) \\left[\\gamma(t_i)-\\gamma(t_{i-1})\\right]$$"
   ]
  },
  {
   "cell_type": "markdown",
   "metadata": {},
   "source": [
    "**Question:** Find the integration of $f(z)=z^2$ along the parabolic path from $0$ to $1$.\n",
    "\n",
    "**Answer:** In order to find the integration we have to find to parametrize the curve as $\\gamma(t)=t+t^2i$, $t\\in [0,1]$."
   ]
  },
  {
   "cell_type": "code",
   "execution_count": 86,
   "metadata": {},
   "outputs": [
    {
     "data": {
      "image/png": "[encoded data removed]",
      "text/plain": [
       "<Figure size 432x288 with 1 Axes>"
      ]
     },
     "metadata": {},
     "output_type": "display_data"
    }
   ],
   "source": [
    "%matplotlib inline \n",
    "import numpy as np\n",
    "from matplotlib import pyplot as plt\n",
    "x,y,t = symbols(\"x y t\")\n",
    "def γ(t):\n",
    "    return t + t**2 * 1j\n",
    "\n",
    "def f(z):\n",
    "    return z*z\n",
    "\n",
    "# arr = np.linspace(0, 1, 10)\n",
    "# cnums = [γ(t) for t in arr]\n",
    "# imgs = [f(z) for z in cnums]\n",
    "\n",
    "arr = np.linspace(0, 1, 10)\n",
    "# Y = np.linspace(0, 1, 10)\n",
    "X, Y = np.meshgrid(arr, arr)\n",
    "\n",
    "U = X**2 - Y**2\n",
    "V = 2*X*Y\n",
    "\n",
    "\n",
    "plt.quiver(X, Y, U, V,edgecolor='k', facecolor='None', linewidth=.5)\n",
    "\n",
    "cnums = np.array(list(map(γ, arr  )))\n",
    "imgs  = np.array(list(map(f, cnums)))\n",
    "X_0 = list(map(lambda z: z.real, cnums))\n",
    "Y_0 = list(map(lambda z: z.imag, cnums))\n",
    "U_0 = list(map(lambda z: z.real, imgs))\n",
    "V_0 = list(map(lambda z: z.imag, imgs))\n",
    "\n",
    "plt.plot(X_0, Y_0, color='blue')\n",
    "plt.scatter(X_0, Y_0, color='red')\n",
    "plt.quiver(X_0,Y_0,U_0,V_0)\n",
    "\n",
    "plt.show()\n",
    "# [(f(x+1j*y).real, f(x+1j*y).imag) for x in X for y in Y ]"
   ]
  },
  {
   "cell_type": "markdown",
   "metadata": {},
   "source": [
    "Here we will do the numerical computation"
   ]
  },
  {
   "cell_type": "code",
   "execution_count": 82,
   "metadata": {},
   "outputs": [
    {
     "data": {
      "text/plain": [
       "(-0.6818686799806022+0.675438053988273j)"
      ]
     },
     "execution_count": 82,
     "metadata": {},
     "output_type": "execute_result"
    }
   ],
   "source": [
    "Δt = cnums[1:]-cnums[:-1]\n",
    "np.dot(imgs[1:],Δt)"
   ]
  },
  {
   "cell_type": "markdown",
   "metadata": {},
   "source": [
    "Now we do the same computation using integration"
   ]
  },
  {
   "cell_type": "code",
   "execution_count": 21,
   "metadata": {},
   "outputs": [
    {
     "data": {
      "image/png": "[encoded data removed]",
      "text/latex": [
       "$$-0.666666666666667 + 0.666666666666667 i$$"
      ],
      "text/plain": [
       "-0.666666666666667 + 0.666666666666667⋅ⅈ"
      ]
     },
     "execution_count": 21,
     "metadata": {},
     "output_type": "execute_result"
    }
   ],
   "source": [
    "integrate(f(γ(t))*diff(γ(t), t),(t,0,1))"
   ]
  },
  {
   "cell_type": "code",
   "execution_count": 69,
   "metadata": {},
   "outputs": [
    {
     "data": {
      "image/png": "[encoded data removed]",
      "text/plain": [
       "<Figure size 432x288 with 1 Axes>"
      ]
     },
     "metadata": {},
     "output_type": "display_data"
    }
   ],
   "source": [
    "import numpy as np\n",
    "from matplotlib import pyplot as plt\n",
    "from matplotlib import animation\n",
    "\n",
    "X, Y = np.mgrid[:2*np.pi:10j,:2*np.pi:5j]\n",
    "U = np.cos(X)\n",
    "V = np.sin(Y)\n",
    "\n",
    "fig, ax = plt.subplots(1,1)\n",
    "Q = ax.quiver(X, Y, U, V, pivot='mid', color='r', units='inches')\n",
    "\n",
    "ax.set_xlim(-1, 7)\n",
    "ax.set_ylim(-1, 7)\n",
    "\n",
    "def update_quiver(num, Q, X, Y):\n",
    "    \"\"\"updates the horizontal and vertical vector components by a\n",
    "    fixed increment on each frame\n",
    "    \"\"\"\n",
    "\n",
    "    U = np.cos(X + num*0.1)\n",
    "    V = np.sin(Y + num*0.1)\n",
    "\n",
    "    Q.set_UVC(U,V)\n",
    "\n",
    "    return Q\n",
    "\n",
    "# you need to set blit=False, or the first set of arrows never gets\n",
    "# cleared on subsequent frames\n",
    "anim = animation.FuncAnimation(fig, update_quiver, fargs=(Q, X, Y),\n",
    "                               interval=50, blit=False)\n",
    "fig.tight_layout()\n",
    "plt.show()"
   ]
  },
  {
   "cell_type": "code",
   "execution_count": null,
   "metadata": {},
   "outputs": [],
   "source": [
    "import plotly.plotly as py\n",
    "from plotly.grid_objs import Grid, Column\n",
    "\n",
    "import time\n",
    "\n",
    "column_1 = Column([0.9, 1.1], 'x')\n",
    "column_2 = Column([1.0, 1.0], 'y')\n",
    "column_3 = Column([0.8, 1.2], 'x2')\n",
    "column_4 = Column([1.2, 0.8], 'y2')\n",
    "column_5 = Column([0.7, 1.3], 'x3')\n",
    "column_6 = Column([0.7, 1.3], 'y3')\n",
    "column_7 = Column([0.6, 1.4], 'x4')\n",
    "column_8 = Column([1.5, 0.5], 'y4')\n",
    "column_9 = Column([0.4, 1.6], 'x5')\n",
    "column_10 = Column([1.2, 0.8], 'y5')\n",
    "\n",
    "grid = Grid([column_1, column_2, column_3, column_4, column_5,\n",
    "             column_6, column_7, column_8, column_9, column_10])\n",
    "py.grid_ops.upload(grid, 'points_changing_size_grid'+str(time.time()), auto_open=False)\n",
    "\n",
    "# create figure\n",
    "figure = {\n",
    "    'data': [\n",
    "        {\n",
    "            'xsrc': grid.get_column_reference('x'),\n",
    "            'ysrc': grid.get_column_reference('y'),\n",
    "            'mode': 'markers',\n",
    "            'marker': {'color': '#48186a', 'size': 10}\n",
    "        }\n",
    "    ],\n",
    "    'layout': {'title': 'Growing Circles',\n",
    "               'xaxis': {'range': [0, 2], 'autorange': False},\n",
    "               'yaxis': {'range': [0, 2], 'autorange': False},\n",
    "               'updatemenus': [{\n",
    "                   'buttons': [\n",
    "                       {'args': [None],\n",
    "                        'label': 'Play',\n",
    "                        'method': 'animate'}\n",
    "               ],\n",
    "               'pad': {'r': 10, 't': 87},\n",
    "               'showactive': False,\n",
    "               'type': 'buttons'\n",
    "                }]},\n",
    "    'frames': [\n",
    "        {\n",
    "            'data': [\n",
    "                {\n",
    "                    'xsrc': grid.get_column_reference('x2'),\n",
    "                    'ysrc': grid.get_column_reference('y2'),\n",
    "                    'mode': 'markers',\n",
    "                    'marker': {'color': '#3b528b', 'size': 25}\n",
    "                }\n",
    "            ]\n",
    "        },\n",
    "        {\n",
    "            'data': [\n",
    "                {\n",
    "                    'xsrc': grid.get_column_reference('x3'),\n",
    "                    'ysrc': grid.get_column_reference('y3'),\n",
    "                    'mode': 'markers',\n",
    "                    'marker': {'color': '#26828e', 'size': 50}\n",
    "                }\n",
    "            ]\n",
    "        },\n",
    "        {\n",
    "            'data': [\n",
    "                {\n",
    "                    'xsrc': grid.get_column_reference('x4'),\n",
    "                    'ysrc': grid.get_column_reference('y4'),\n",
    "                    'mode': 'markers',\n",
    "                    'marker': {'color': '#5ec962', 'size': 80}\n",
    "                }\n",
    "            ]\n",
    "        },\n",
    "        {\n",
    "            'data': [\n",
    "                {\n",
    "                    'xsrc': grid.get_column_reference('x5'),\n",
    "                    'ysrc': grid.get_column_reference('y5'),\n",
    "                    'mode': 'markers',\n",
    "                    'marker': {'color': '#d8e219', 'size': 100}\n",
    "                }\n",
    "            ]\n",
    "        }\n",
    "    ]\n",
    "}\n",
    "py.icreate_animations(figure, 'points_changing_size'+str(time.time()))"
   ]
  },
  {
   "cell_type": "code",
   "execution_count": 1,
   "metadata": {},
   "outputs": [
    {
     "data": {
      "text/plain": [
       "'3.7.0'"
      ]
     },
     "execution_count": 1,
     "metadata": {},
     "output_type": "execute_result"
    }
   ],
   "source": [
    "import plotly\n",
    "plotly.__version__"
   ]
  },
  {
   "cell_type": "code",
   "execution_count": null,
   "metadata": {},
   "outputs": [],
   "source": []
  },
  {
   "cell_type": "code",
   "execution_count": null,
   "metadata": {},
   "outputs": [],
   "source": []
  }
 ],
 "metadata": {
  "kernelspec": {
   "display_name": "Python 3",
   "language": "python",
   "name": "python3"
  },
  "language_info": {
   "codemirror_mode": {
    "name": "ipython",
    "version": 3
   },
   "file_extension": ".py",
   "mimetype": "text/x-python",
   "name": "python",
   "nbconvert_exporter": "python",
   "pygments_lexer": "ipython3",
   "version": "3.6.5"
  }
 },
 "nbformat": 4,
 "nbformat_minor": 2
}
